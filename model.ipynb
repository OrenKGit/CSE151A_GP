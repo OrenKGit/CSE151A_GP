{
 "cells": [
  {
   "cell_type": "markdown",
   "metadata": {},
   "source": [
    "Preprocessing: Tokenize, Lemmatize, remove stopwords"
   ]
  },
  {
   "cell_type": "markdown",
   "metadata": {},
   "source": [
    "Let's first extract the data we need"
   ]
  },
  {
   "cell_type": "code",
   "execution_count": 102,
   "metadata": {},
   "outputs": [
    {
     "data": {
      "text/plain": [
       "[{'review_title': 'Super cute but too small',\n",
       "  'review_text': 'The item was in great condition and was super cute. An XL didn’t fit me though.',\n",
       "  'star_ratings': 4},\n",
       " {'review_title': 'Second try',\n",
       "  'review_text': 'I rented these in my usual size last time and they were just too snug. The large was better but the fit was still off for me. Bummed because the material is nice.',\n",
       "  'star_ratings': 3},\n",
       " {'review_title': 'Fun shorts',\n",
       "  'review_text': 'Loved the color and style. Size up, I’m usually a size 4/small but I wore a medium and they were still a little tight around the waist.',\n",
       "  'star_ratings': 5}]"
      ]
     },
     "execution_count": 102,
     "metadata": {},
     "output_type": "execute_result"
    }
   ],
   "source": [
    "import json\n",
    "\n",
    "with open('data/reviews.json', 'r', encoding='utf-8') as file:\n",
    "    data = json.load(file)\n",
    "\n",
    "# Extract the desired information\n",
    "extracted_data = []\n",
    "\n",
    "for item in data:\n",
    "    for review in item['reviews']:\n",
    "        extracted_review = {\n",
    "            'review_title': review['review_title'],\n",
    "            'review_text': review['review_text'],\n",
    "            'star_ratings': review['star_ratings']\n",
    "        }\n",
    "        extracted_data.append(extracted_review)\n",
    "\n",
    "# Show the first few extracted reviews to verify the process\n",
    "extracted_data[:3]"
   ]
  },
  {
   "cell_type": "code",
   "execution_count": 103,
   "metadata": {},
   "outputs": [
    {
     "name": "stderr",
     "output_type": "stream",
     "text": [
      "[nltk_data] Downloading package stopwords to\n",
      "[nltk_data]     C:\\Users\\erik1\\AppData\\Roaming\\nltk_data...\n",
      "[nltk_data]   Package stopwords is already up-to-date!\n",
      "[nltk_data] Downloading package wordnet to\n",
      "[nltk_data]     C:\\Users\\erik1\\AppData\\Roaming\\nltk_data...\n",
      "[nltk_data]   Package wordnet is already up-to-date!\n",
      "[nltk_data] Downloading package omw-1.4 to\n",
      "[nltk_data]     C:\\Users\\erik1\\AppData\\Roaming\\nltk_data...\n",
      "[nltk_data]   Package omw-1.4 is already up-to-date!\n"
     ]
    },
    {
     "data": {
      "text/plain": [
       "[['item', 'great', 'condition', 'super', 'cute', 'xl', 'fit', 'though'],\n",
       " ['rented',\n",
       "  'usual',\n",
       "  'size',\n",
       "  'last',\n",
       "  'time',\n",
       "  'snug',\n",
       "  'large',\n",
       "  'better',\n",
       "  'fit',\n",
       "  'still',\n",
       "  'bummed',\n",
       "  'material',\n",
       "  'nice'],\n",
       " ['loved',\n",
       "  'color',\n",
       "  'style',\n",
       "  'size',\n",
       "  'usually',\n",
       "  'size',\n",
       "  'wore',\n",
       "  'medium',\n",
       "  'still',\n",
       "  'little',\n",
       "  'tight',\n",
       "  'around',\n",
       "  'waist']]"
      ]
     },
     "execution_count": 103,
     "metadata": {},
     "output_type": "execute_result"
    }
   ],
   "source": [
    "import nltk\n",
    "nltk.download('stopwords')\n",
    "nltk.download('wordnet')\n",
    "nltk.download('omw-1.4')\n",
    "from nltk.corpus import stopwords\n",
    "from nltk.tokenize import word_tokenize\n",
    "from nltk.stem import WordNetLemmatizer\n",
    "\n",
    "# Initialize NLTK tools\n",
    "stop_words = set(stopwords.words('english'))\n",
    "lemmatizer = WordNetLemmatizer()\n",
    "\n",
    "# Function to preprocess text\n",
    "def preprocess_text(text):\n",
    "    # Tokenize\n",
    "    tokens = word_tokenize(text)\n",
    "    # Lowercase and remove punctuation\n",
    "    tokens = [token.lower() for token in tokens if token.isalpha()]\n",
    "    # Remove stopwords\n",
    "    tokens = [token for token in tokens if token not in stop_words]\n",
    "    # Lemmatize\n",
    "    tokens = [lemmatizer.lemmatize(token) for token in tokens]\n",
    "    return tokens\n",
    "\n",
    "# Apply preprocessing to the review texts\n",
    "for review in extracted_data:\n",
    "    review['processed_review_text'] = preprocess_text(review['review_text'])\n",
    "\n",
    "# Show the processed texts for verification\n",
    "processed_texts = [review['processed_review_text'] for review in extracted_data]\n",
    "processed_texts[:3]"
   ]
  },
  {
   "cell_type": "markdown",
   "metadata": {},
   "source": [
    "Now we have tokenized the text, let's store it to a file:"
   ]
  },
  {
   "cell_type": "code",
   "execution_count": 104,
   "metadata": {},
   "outputs": [
    {
     "data": {
      "text/plain": [
       "86682"
      ]
     },
     "execution_count": 104,
     "metadata": {},
     "output_type": "execute_result"
    }
   ],
   "source": [
    "len(extracted_data)"
   ]
  },
  {
   "cell_type": "code",
   "execution_count": 105,
   "metadata": {},
   "outputs": [],
   "source": [
    "for item in extracted_data:\n",
    "    item.pop(\"review_title\", None)  \n",
    "    item.pop(\"review_text\", None)   \n",
    "\n",
    "with open(\"data/processed_reviews.json\", 'w', encoding='utf-8') as file:\n",
    "    json.dump(extracted_data, file, indent=4)"
   ]
  },
  {
   "cell_type": "markdown",
   "metadata": {},
   "source": [
    "Bag of Word:"
   ]
  },
  {
   "cell_type": "code",
   "execution_count": 106,
   "metadata": {},
   "outputs": [
    {
     "data": {
      "text/html": [
       "<div>\n",
       "<style scoped>\n",
       "    .dataframe tbody tr th:only-of-type {\n",
       "        vertical-align: middle;\n",
       "    }\n",
       "\n",
       "    .dataframe tbody tr th {\n",
       "        vertical-align: top;\n",
       "    }\n",
       "\n",
       "    .dataframe thead th {\n",
       "        text-align: right;\n",
       "    }\n",
       "</style>\n",
       "<table border=\"1\" class=\"dataframe\">\n",
       "  <thead>\n",
       "    <tr style=\"text-align: right;\">\n",
       "      <th></th>\n",
       "      <th>able</th>\n",
       "      <th>absolutely</th>\n",
       "      <th>almost</th>\n",
       "      <th>also</th>\n",
       "      <th>amazing</th>\n",
       "      <th>area</th>\n",
       "      <th>arm</th>\n",
       "      <th>around</th>\n",
       "      <th>back</th>\n",
       "      <th>baggy</th>\n",
       "      <th>...</th>\n",
       "      <th>wide</th>\n",
       "      <th>winter</th>\n",
       "      <th>wish</th>\n",
       "      <th>without</th>\n",
       "      <th>wore</th>\n",
       "      <th>work</th>\n",
       "      <th>worked</th>\n",
       "      <th>worn</th>\n",
       "      <th>would</th>\n",
       "      <th>zipper</th>\n",
       "    </tr>\n",
       "  </thead>\n",
       "  <tbody>\n",
       "    <tr>\n",
       "      <th>0</th>\n",
       "      <td>0</td>\n",
       "      <td>0</td>\n",
       "      <td>0</td>\n",
       "      <td>0</td>\n",
       "      <td>0</td>\n",
       "      <td>0</td>\n",
       "      <td>0</td>\n",
       "      <td>0</td>\n",
       "      <td>0</td>\n",
       "      <td>0</td>\n",
       "      <td>...</td>\n",
       "      <td>0</td>\n",
       "      <td>0</td>\n",
       "      <td>0</td>\n",
       "      <td>0</td>\n",
       "      <td>0</td>\n",
       "      <td>0</td>\n",
       "      <td>0</td>\n",
       "      <td>0</td>\n",
       "      <td>0</td>\n",
       "      <td>0</td>\n",
       "    </tr>\n",
       "    <tr>\n",
       "      <th>1</th>\n",
       "      <td>0</td>\n",
       "      <td>0</td>\n",
       "      <td>0</td>\n",
       "      <td>0</td>\n",
       "      <td>0</td>\n",
       "      <td>0</td>\n",
       "      <td>0</td>\n",
       "      <td>0</td>\n",
       "      <td>0</td>\n",
       "      <td>0</td>\n",
       "      <td>...</td>\n",
       "      <td>0</td>\n",
       "      <td>0</td>\n",
       "      <td>0</td>\n",
       "      <td>0</td>\n",
       "      <td>0</td>\n",
       "      <td>0</td>\n",
       "      <td>0</td>\n",
       "      <td>0</td>\n",
       "      <td>0</td>\n",
       "      <td>0</td>\n",
       "    </tr>\n",
       "    <tr>\n",
       "      <th>2</th>\n",
       "      <td>0</td>\n",
       "      <td>0</td>\n",
       "      <td>0</td>\n",
       "      <td>0</td>\n",
       "      <td>0</td>\n",
       "      <td>0</td>\n",
       "      <td>0</td>\n",
       "      <td>1</td>\n",
       "      <td>0</td>\n",
       "      <td>0</td>\n",
       "      <td>...</td>\n",
       "      <td>0</td>\n",
       "      <td>0</td>\n",
       "      <td>0</td>\n",
       "      <td>0</td>\n",
       "      <td>1</td>\n",
       "      <td>0</td>\n",
       "      <td>0</td>\n",
       "      <td>0</td>\n",
       "      <td>0</td>\n",
       "      <td>0</td>\n",
       "    </tr>\n",
       "    <tr>\n",
       "      <th>3</th>\n",
       "      <td>0</td>\n",
       "      <td>0</td>\n",
       "      <td>0</td>\n",
       "      <td>0</td>\n",
       "      <td>0</td>\n",
       "      <td>0</td>\n",
       "      <td>0</td>\n",
       "      <td>0</td>\n",
       "      <td>0</td>\n",
       "      <td>0</td>\n",
       "      <td>...</td>\n",
       "      <td>0</td>\n",
       "      <td>0</td>\n",
       "      <td>0</td>\n",
       "      <td>0</td>\n",
       "      <td>0</td>\n",
       "      <td>0</td>\n",
       "      <td>0</td>\n",
       "      <td>0</td>\n",
       "      <td>0</td>\n",
       "      <td>0</td>\n",
       "    </tr>\n",
       "    <tr>\n",
       "      <th>4</th>\n",
       "      <td>0</td>\n",
       "      <td>0</td>\n",
       "      <td>0</td>\n",
       "      <td>0</td>\n",
       "      <td>0</td>\n",
       "      <td>0</td>\n",
       "      <td>0</td>\n",
       "      <td>0</td>\n",
       "      <td>0</td>\n",
       "      <td>0</td>\n",
       "      <td>...</td>\n",
       "      <td>0</td>\n",
       "      <td>0</td>\n",
       "      <td>0</td>\n",
       "      <td>0</td>\n",
       "      <td>0</td>\n",
       "      <td>0</td>\n",
       "      <td>0</td>\n",
       "      <td>0</td>\n",
       "      <td>1</td>\n",
       "      <td>0</td>\n",
       "    </tr>\n",
       "    <tr>\n",
       "      <th>...</th>\n",
       "      <td>...</td>\n",
       "      <td>...</td>\n",
       "      <td>...</td>\n",
       "      <td>...</td>\n",
       "      <td>...</td>\n",
       "      <td>...</td>\n",
       "      <td>...</td>\n",
       "      <td>...</td>\n",
       "      <td>...</td>\n",
       "      <td>...</td>\n",
       "      <td>...</td>\n",
       "      <td>...</td>\n",
       "      <td>...</td>\n",
       "      <td>...</td>\n",
       "      <td>...</td>\n",
       "      <td>...</td>\n",
       "      <td>...</td>\n",
       "      <td>...</td>\n",
       "      <td>...</td>\n",
       "      <td>...</td>\n",
       "      <td>...</td>\n",
       "    </tr>\n",
       "    <tr>\n",
       "      <th>86677</th>\n",
       "      <td>0</td>\n",
       "      <td>0</td>\n",
       "      <td>0</td>\n",
       "      <td>0</td>\n",
       "      <td>0</td>\n",
       "      <td>0</td>\n",
       "      <td>0</td>\n",
       "      <td>0</td>\n",
       "      <td>0</td>\n",
       "      <td>0</td>\n",
       "      <td>...</td>\n",
       "      <td>0</td>\n",
       "      <td>0</td>\n",
       "      <td>0</td>\n",
       "      <td>0</td>\n",
       "      <td>0</td>\n",
       "      <td>0</td>\n",
       "      <td>0</td>\n",
       "      <td>0</td>\n",
       "      <td>0</td>\n",
       "      <td>0</td>\n",
       "    </tr>\n",
       "    <tr>\n",
       "      <th>86678</th>\n",
       "      <td>0</td>\n",
       "      <td>0</td>\n",
       "      <td>0</td>\n",
       "      <td>0</td>\n",
       "      <td>0</td>\n",
       "      <td>0</td>\n",
       "      <td>0</td>\n",
       "      <td>0</td>\n",
       "      <td>0</td>\n",
       "      <td>0</td>\n",
       "      <td>...</td>\n",
       "      <td>0</td>\n",
       "      <td>0</td>\n",
       "      <td>0</td>\n",
       "      <td>0</td>\n",
       "      <td>0</td>\n",
       "      <td>0</td>\n",
       "      <td>0</td>\n",
       "      <td>0</td>\n",
       "      <td>1</td>\n",
       "      <td>0</td>\n",
       "    </tr>\n",
       "    <tr>\n",
       "      <th>86679</th>\n",
       "      <td>0</td>\n",
       "      <td>0</td>\n",
       "      <td>0</td>\n",
       "      <td>0</td>\n",
       "      <td>0</td>\n",
       "      <td>0</td>\n",
       "      <td>0</td>\n",
       "      <td>0</td>\n",
       "      <td>0</td>\n",
       "      <td>0</td>\n",
       "      <td>...</td>\n",
       "      <td>0</td>\n",
       "      <td>0</td>\n",
       "      <td>0</td>\n",
       "      <td>0</td>\n",
       "      <td>0</td>\n",
       "      <td>0</td>\n",
       "      <td>0</td>\n",
       "      <td>0</td>\n",
       "      <td>0</td>\n",
       "      <td>0</td>\n",
       "    </tr>\n",
       "    <tr>\n",
       "      <th>86680</th>\n",
       "      <td>1</td>\n",
       "      <td>0</td>\n",
       "      <td>0</td>\n",
       "      <td>0</td>\n",
       "      <td>0</td>\n",
       "      <td>0</td>\n",
       "      <td>0</td>\n",
       "      <td>0</td>\n",
       "      <td>0</td>\n",
       "      <td>0</td>\n",
       "      <td>...</td>\n",
       "      <td>0</td>\n",
       "      <td>0</td>\n",
       "      <td>0</td>\n",
       "      <td>0</td>\n",
       "      <td>0</td>\n",
       "      <td>0</td>\n",
       "      <td>0</td>\n",
       "      <td>0</td>\n",
       "      <td>0</td>\n",
       "      <td>0</td>\n",
       "    </tr>\n",
       "    <tr>\n",
       "      <th>86681</th>\n",
       "      <td>0</td>\n",
       "      <td>0</td>\n",
       "      <td>0</td>\n",
       "      <td>0</td>\n",
       "      <td>0</td>\n",
       "      <td>0</td>\n",
       "      <td>0</td>\n",
       "      <td>0</td>\n",
       "      <td>0</td>\n",
       "      <td>0</td>\n",
       "      <td>...</td>\n",
       "      <td>0</td>\n",
       "      <td>0</td>\n",
       "      <td>0</td>\n",
       "      <td>0</td>\n",
       "      <td>0</td>\n",
       "      <td>0</td>\n",
       "      <td>0</td>\n",
       "      <td>0</td>\n",
       "      <td>0</td>\n",
       "      <td>0</td>\n",
       "    </tr>\n",
       "  </tbody>\n",
       "</table>\n",
       "<p>86682 rows × 243 columns</p>\n",
       "</div>"
      ],
      "text/plain": [
       "       able  absolutely  almost  also  amazing  area  arm  around  back  \\\n",
       "0         0           0       0     0        0     0    0       0     0   \n",
       "1         0           0       0     0        0     0    0       0     0   \n",
       "2         0           0       0     0        0     0    0       1     0   \n",
       "3         0           0       0     0        0     0    0       0     0   \n",
       "4         0           0       0     0        0     0    0       0     0   \n",
       "...     ...         ...     ...   ...      ...   ...  ...     ...   ...   \n",
       "86677     0           0       0     0        0     0    0       0     0   \n",
       "86678     0           0       0     0        0     0    0       0     0   \n",
       "86679     0           0       0     0        0     0    0       0     0   \n",
       "86680     1           0       0     0        0     0    0       0     0   \n",
       "86681     0           0       0     0        0     0    0       0     0   \n",
       "\n",
       "       baggy  ...  wide  winter  wish  without  wore  work  worked  worn  \\\n",
       "0          0  ...     0       0     0        0     0     0       0     0   \n",
       "1          0  ...     0       0     0        0     0     0       0     0   \n",
       "2          0  ...     0       0     0        0     1     0       0     0   \n",
       "3          0  ...     0       0     0        0     0     0       0     0   \n",
       "4          0  ...     0       0     0        0     0     0       0     0   \n",
       "...      ...  ...   ...     ...   ...      ...   ...   ...     ...   ...   \n",
       "86677      0  ...     0       0     0        0     0     0       0     0   \n",
       "86678      0  ...     0       0     0        0     0     0       0     0   \n",
       "86679      0  ...     0       0     0        0     0     0       0     0   \n",
       "86680      0  ...     0       0     0        0     0     0       0     0   \n",
       "86681      0  ...     0       0     0        0     0     0       0     0   \n",
       "\n",
       "       would  zipper  \n",
       "0          0       0  \n",
       "1          0       0  \n",
       "2          0       0  \n",
       "3          0       0  \n",
       "4          1       0  \n",
       "...      ...     ...  \n",
       "86677      0       0  \n",
       "86678      1       0  \n",
       "86679      0       0  \n",
       "86680      0       0  \n",
       "86681      0       0  \n",
       "\n",
       "[86682 rows x 243 columns]"
      ]
     },
     "execution_count": 106,
     "metadata": {},
     "output_type": "execute_result"
    }
   ],
   "source": [
    "from sklearn.feature_extraction.text import CountVectorizer\n",
    "reviews_sentences = [\" \".join(review[\"processed_review_text\"]) for review in extracted_data]\n",
    "\n",
    "# Initialize the CountVectorizer\n",
    "vectorizer = CountVectorizer(min_df=1000)\n",
    "\n",
    "# Fit and transform the sentences to Bag of Words\n",
    "X_bow = vectorizer.fit_transform(reviews_sentences)\n",
    "\n",
    "# Convert the result to an array\n",
    "bow_array = X_bow.toarray()\n",
    "\n",
    "# Display the Bag of Words array\n",
    "import pandas as pd\n",
    "\n",
    "# Convert the BoW array to a DataFrame for better visualization\n",
    "bow_df = pd.DataFrame(bow_array, columns=vectorizer.get_feature_names_out())\n",
    "\n",
    "# Show the DataFrame for a more understandable representation\n",
    "bow_df"
   ]
  },
  {
   "cell_type": "code",
   "execution_count": 107,
   "metadata": {},
   "outputs": [],
   "source": [
    "from sklearn.model_selection import train_test_split\n",
    "\n",
    "# Assuming `bow_array` is your BoW representation from the previous steps\n",
    "# Extract star ratings from your data\n",
    "star_ratings = [review['star_ratings'] for review in extracted_data]\n",
    "\n",
    "# Split data into training and testing sets\n",
    "X_train, X_test, y_train, y_test = train_test_split(bow_array, star_ratings, test_size=0.2, random_state=42)"
   ]
  },
  {
   "cell_type": "code",
   "execution_count": 108,
   "metadata": {},
   "outputs": [
    {
     "data": {
      "text/plain": [
       "LinearRegression()"
      ]
     },
     "execution_count": 108,
     "metadata": {},
     "output_type": "execute_result"
    }
   ],
   "source": [
    "from sklearn.linear_model import LinearRegression\n",
    "from sklearn.metrics import mean_squared_error\n",
    "import numpy as np\n",
    "# Initialize the model\n",
    "model = LinearRegression()\n",
    "\n",
    "# Train the model\n",
    "model.fit(X_train, y_train)"
   ]
  },
  {
   "cell_type": "code",
   "execution_count": 109,
   "metadata": {},
   "outputs": [
    {
     "name": "stdout",
     "output_type": "stream",
     "text": [
      "1.191901713099152\n"
     ]
    }
   ],
   "source": [
    "predictions = model.predict(X_test)\n",
    "\n",
    "integer_predictions = np.clip(predictions, 1, 5).astype(int)\n",
    "\n",
    "# Evaluate the model\n",
    "mse = mean_squared_error(y_test, integer_predictions)\n",
    "print(mse)"
   ]
  },
  {
   "cell_type": "code",
   "execution_count": 110,
   "metadata": {},
   "outputs": [
    {
     "name": "stdout",
     "output_type": "stream",
     "text": [
      "Train MAE: 0.8610\n",
      "Test MAE: 0.8555\n",
      "Train MSE: 1.197\n",
      "Test MSE: 1.1919\n",
      "Train R^2: 0.1703\n",
      "Test R^2: 0.1756\n"
     ]
    },
    {
     "data": {
      "image/png": "[encoded data removed]",
      "text/plain": [
       "<Figure size 1000x600 with 1 Axes>"
      ]
     },
     "metadata": {},
     "output_type": "display_data"
    }
   ],
   "source": [
    "from sklearn.metrics import mean_absolute_error, mean_squared_error, r2_score\n",
    "from sklearn.metrics import confusion_matrix\n",
    "import seaborn as sns\n",
    "import matplotlib.pyplot as plt\n",
    "\n",
    "y_train_pred = model.predict(X_train)\n",
    "y_test_pred = model.predict(X_test)\n",
    "y_test_pred = np.clip(y_test_pred, 1, 5).astype(int)\n",
    "y_train_pred = np.clip(y_train_pred, 1, 5).astype(int)\n",
    "# Calculate regression metrics\n",
    "train_mae = mean_absolute_error(y_train, y_train_pred)\n",
    "test_mae = mean_absolute_error(y_test, y_test_pred)\n",
    "\n",
    "train_mse = mean_squared_error(y_train, y_train_pred)\n",
    "test_mse = mean_squared_error(y_test, y_test_pred)\n",
    "\n",
    "train_r2 = r2_score(y_train, y_train_pred)\n",
    "test_r2 = r2_score(y_test, y_test_pred)\n",
    "\n",
    "\n",
    "print(\"Train MAE: {:.4f}\\nTest MAE: {:.4f}\\nTrain MSE: {:.4}\\nTest MSE: {:.4f}\\nTrain R^2: {:.4f}\\nTest R^2: {:.4f}\".format(train_mae, test_mae, train_mse, test_mse, train_r2, test_r2))\n",
    "plt.figure(figsize=(10, 6))\n",
    "plt.plot(['Training', 'Testing'], [train_r2, test_r2], marker='o')\n",
    "plt.show()"
   ]
  },
  {
   "cell_type": "code",
   "execution_count": 111,
   "metadata": {},
   "outputs": [
    {
     "data": {
      "image/png": "[encoded data removed]",
      "text/plain": [
       "<Figure size 1000x700 with 2 Axes>"
      ]
     },
     "metadata": {},
     "output_type": "display_data"
    }
   ],
   "source": [
    "cm_train = confusion_matrix(y_train, y_train_pred)\n",
    "cm_test = confusion_matrix(y_test, y_test_pred)\n",
    "\n",
    "plt.figure(figsize=(10, 7))\n",
    "\n",
    "sns.heatmap(cm_test, annot=True, fmt=\"d\", cmap=\"Blues\", \n",
    "            xticklabels=np.unique(y_test), yticklabels=np.unique(y_test))\n",
    "plt.title('Confusion Matrix for Testing Data')\n",
    "plt.xlabel('Predicted Labels')\n",
    "plt.ylabel('True Labels')\n",
    "plt.show()"
   ]
  },
  {
   "cell_type": "code",
   "execution_count": 112,
   "metadata": {},
   "outputs": [
    {
     "name": "stdout",
     "output_type": "stream",
     "text": [
      "Accuracy: 0.3073196054680741\n",
      "Precision: 0.5725372565028342\n",
      "Recall: 0.3073196054680741\n"
     ]
    },
    {
     "name": "stderr",
     "output_type": "stream",
     "text": [
      "c:\\Users\\erik1\\anaconda3\\lib\\site-packages\\sklearn\\metrics\\_classification.py:1318: UndefinedMetricWarning: Precision is ill-defined and being set to 0.0 in labels with no predicted samples. Use `zero_division` parameter to control this behavior.\n",
      "  _warn_prf(average, modifier, msg_start, len(result))\n"
     ]
    }
   ],
   "source": [
    "from sklearn.metrics import accuracy_score, precision_score, recall_score\n",
    "accuracy = accuracy_score(y_test, y_test_pred)\n",
    "precision = precision_score(y_test, y_test_pred, average='weighted')\n",
    "recall = recall_score(y_test, y_test_pred, average='weighted')\n",
    "\n",
    "print(f\"Accuracy: {accuracy}\")\n",
    "print(f\"Precision: {precision}\")\n",
    "print(f\"Recall: {recall}\")"
   ]
  },
  {
   "cell_type": "code",
   "execution_count": 113,
   "metadata": {},
   "outputs": [
    {
     "name": "stdout",
     "output_type": "stream",
     "text": [
      "['really', 'cheap', 'broke', 'week', 'trash', 'poor', 'quality']\n",
      "Predicted Rating: 4\n"
     ]
    }
   ],
   "source": [
    "user_input = \"really cheap and it broke after a week, trash, poor quality\"\n",
    "\n",
    "user_input_processed = preprocess_text(user_input)\n",
    "print(user_input_processed)\n",
    "user_input_processed = [\" \".join(preprocess_text(user_input))]\n",
    "user_input_vectorized = vectorizer.transform(user_input_processed)\n",
    "user_input_prediction = model.predict(user_input_vectorized)\n",
    "predicted_rating = np.clip(np.round(user_input_prediction), 1, 5).astype(int)\n",
    "print(f\"Predicted Rating: {predicted_rating[0]}\")"
   ]
  },
  {
   "cell_type": "code",
   "execution_count": 114,
   "metadata": {},
   "outputs": [
    {
     "data": {
      "image/png": "[encoded data removed]",
      "text/plain": [
       "<Figure size 1000x600 with 1 Axes>"
      ]
     },
     "metadata": {},
     "output_type": "display_data"
    }
   ],
   "source": [
    "plt.figure(figsize=(10, 6))\n",
    "y_train_np = np.array(y_train)\n",
    "y_test_np = np.array(y_test)\n",
    "# Scatter plot for training data\n",
    "plt.scatter(y_train_pred, y_train, alpha=0.5, color='blue', label='Train')\n",
    "\n",
    "# Scatter plot for testing data\n",
    "plt.scatter(y_test_pred, y_test, alpha=0.5, color='red', label='Test')\n",
    "\n",
    "# Plot a line for predictions\n",
    "plt.plot([min(y_train_np.min(), y_test_np.min()), max(y_train_np.max(), y_test_np.max())], \n",
    "         [min(y_train_np.min(), y_test_np.min()), max(y_train_np.max(), y_test_np.max())], \n",
    "         color='black', linestyle='--', label='Predictions')\n",
    "\n",
    "plt.xlabel('Predicted Star Ratings')\n",
    "plt.ylabel('Actual Star Ratings')\n",
    "plt.title('Model Predictions vs. Actual Star Ratings')\n",
    "plt.legend()\n",
    "plt.show()"
   ]
  },
  {
   "cell_type": "code",
   "execution_count": 101,
   "metadata": {},
   "outputs": [],
   "source": [
    "# X_total = np.vstack((X_train, X_test))\n",
    "\n",
    "# y_total = np.vstack((np.array(y_train).reshape(-1, 1), np.array(y_test).reshape(-1, 1))) \n",
    "# X_total_sorted = X_total[X_total.argsort(axis=0).flatten()]\n",
    "# y_pred_total = model.predict(X_total_sorted)\n",
    "\n",
    "\n",
    "# plt.plot(X_total_sorted, y_pred_total, color='red', linewidth=2, label='Model prediction')\n"
   ]
  },
  {
   "cell_type": "code",
   "execution_count": null,
   "metadata": {},
   "outputs": [],
   "source": []
  }
 ],
 "metadata": {
  "kernelspec": {
   "display_name": "Python 3",
   "language": "python",
   "name": "python3"
  },
  "language_info": {
   "codemirror_mode": {
    "name": "ipython",
    "version": 3
   },
   "file_extension": ".py",
   "mimetype": "text/x-python",
   "name": "python",
   "nbconvert_exporter": "python",
   "pygments_lexer": "ipython3",
   "version": "3.9.13"
  }
 },
 "nbformat": 4,
 "nbformat_minor": 2
}
